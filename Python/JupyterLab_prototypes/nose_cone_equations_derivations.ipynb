{
 "cells": [
  {
   "cell_type": "markdown",
   "metadata": {},
   "source": [
    "## Derive the Equations for Offset Points for the Nose Cone"
   ]
  },
  {
   "cell_type": "code",
   "execution_count": 1,
   "metadata": {},
   "outputs": [],
   "source": [
    "# Nosecone Parametric Equations\n",
    "#\n",
    "# .. todo:: Add shoulder equations.\n",
    "# .. todo:: Convert to take an input equation, calculate points, \n",
    "#    and then offset those points. This should work for \n",
    "#    custom transitions as long as a parametric equation can be \n",
    "#    created for the outside surface of the transition.\n",
    "# .. todo:: print equations with math notation.\n",
    "# .. todo:: Add end-point corrections. See the MATLAB code I \n",
    "#    have somewhere on either my laptop, desktop, or work computer?\n",
    "#\n",
    "# ..seealso:: mathworld.wolfram.com/ParallelCurves.html\n",
    "#\n",
    "# Python 3.7.4\n",
    "# Created by Andrew Smelser on 1/2/2020\n",
    "# Version 0.1.0a\n",
    "\n",
    "import matplotlib.pyplot as plt\n",
    "from sympy import *\n",
    "import numpy as np\n",
    "\n",
    "# Define the symbolic nosecone variables for SymPy\n",
    "x, f, k, g_dot, f_dot = symbols('x f k gdot fdot')\n",
    "alpha, beta, gamma = symbols('alpha beta gamma')\n",
    "y, g = symbols('y g')\n",
    "t = symbols('t')\n",
    "\n",
    "# Define the symbolic shoulder variables for SymPy\n",
    "beta_shoulder = symbols('beta_shoulder')  # Shoulder outer diameter\n",
    "gamma_shoulder = symbols('gamma_shoulder')  # Shoulder length\n",
    "k_shoulder = symbols('k_shoulder')  # Shoulder wall thickness"
   ]
  },
  {
   "cell_type": "code",
   "execution_count": 2,
   "metadata": {},
   "outputs": [],
   "source": [
    "# Outer Surface -- Starting Equations\n",
    "# Equations for the x and y coordinates (x, y) = (f, g)\n",
    "# Parameterized by t\n",
    "f = t\n",
    "g = (beta/2)*((2*t/gamma) - alpha * pow((t/gamma),2))/(2-alpha)\n",
    "\n",
    "# Define the derivatives of the x and y coordinate equations\n",
    "g_dot = diff(g, t)  # dg/dt\n",
    "f_dot = diff(f, t)  # df/dt\n",
    "\n",
    "# Define the offset (x, y) coordinate pairs\n",
    "# based on parallel curve equations from Wolfram alpha\n",
    "# k = offset distance (i.e. wall thickness)\n",
    "x = f - k*g_dot / sqrt(f_dot**2 + g_dot**2)\n",
    "y = g + k*f_dot / sqrt(f_dot**2 + g_dot**2)"
   ]
  },
  {
   "cell_type": "code",
   "execution_count": 3,
   "metadata": {},
   "outputs": [
    {
     "name": "stdout",
     "output_type": "stream",
     "text": [
      "t\n",
      "\n",
      "beta*(-alpha*t**2/gamma**2 + 2*t/gamma)/(2*(2 - alpha))\n",
      "\n",
      "-beta*k*(-2*alpha*t/gamma**2 + 2/gamma)/(2*(2 - alpha)*sqrt(beta**2*(-2*alpha*t/gamma**2 + 2/gamma)**2/(4*(2 - alpha)**2) + 1)) + t\n",
      "\n",
      "beta*(-alpha*t**2/gamma**2 + 2*t/gamma)/(2*(2 - alpha)) + k/sqrt(beta**2*(-2*alpha*t/gamma**2 + 2/gamma)**2/(4*(2 - alpha)**2) + 1)\n",
      "\n"
     ]
    }
   ],
   "source": [
    "# Show the inner and outer surface equations:\n",
    "# f = x equation for outer surface\n",
    "# g = y equation for outer surface\n",
    "# x = x equation for inner surface (offset f point)\n",
    "# y = y equation for inner surface (offset g point)\n",
    "#\n",
    "# Plot as: inner_curve = plot(x, y)\n",
    "# Plot as: outer_curve = plot(f, g)\n",
    "#\n",
    "# Replace all sqrt() calls with np.sqrt()\n",
    "\n",
    "print(f'{f}\\n')  # x equation for outer surface\n",
    "print(f'{g}\\n')  # y equation for outer surface\n",
    "print(f'{x}\\n')  # x equation for inner surface\n",
    "print(f'{y}\\n')  # y equation for inner surface"
   ]
  },
  {
   "cell_type": "code",
   "execution_count": 4,
   "metadata": {
    "scrolled": true
   },
   "outputs": [
    {
     "name": "stdout",
     "output_type": "stream",
     "text": [
      "t\n",
      "\n",
      "\n",
      "(1.0/2.0)*beta*(-alpha*pow(t, 2)/pow(gamma, 2) + 2*t/gamma)/(2 - alpha)\n",
      "\n",
      "\n",
      "-1.0/2.0*beta*k*(-2*alpha*t/pow(gamma, 2) + 2/gamma)/((2 - alpha)*sqrt((1.0/4.0)*pow(beta, 2)*pow(-2*alpha*t/pow(gamma, 2) + 2/gamma, 2)/pow(2 - alpha, 2) + 1)) + t\n",
      "\n",
      "\n",
      "(1.0/2.0)*beta*(-alpha*pow(t, 2)/pow(gamma, 2) + 2*t/gamma)/(2 - alpha) + k/sqrt((1.0/4.0)*pow(beta, 2)*pow(-2*alpha*t/pow(gamma, 2) + 2/gamma, 2)/pow(2 - alpha, 2) + 1)\n"
     ]
    }
   ],
   "source": [
    "# Print the equations for copy+paste into OpenSCAD\n",
    "# Use C-like syntax to comply with OpenSCAD syntax\n",
    "print_ccode(f)\n",
    "print('\\n')\n",
    "print_ccode(g)\n",
    "print('\\n')\n",
    "print_ccode(x)\n",
    "print('\\n')\n",
    "print_ccode(y)"
   ]
  },
  {
   "cell_type": "markdown",
   "metadata": {},
   "source": [
    "-----\n",
    "## Plot Example Points\n",
    "\n",
    "Shape Parameter, alpha = 1\n",
    "\n",
    "Aft Nosecone Diameter, beta = 40mm\n",
    "\n",
    "Nosecone Length, gamma = 20mm\n",
    "\n",
    "Wall Thickness, k = 1.5mm"
   ]
  },
  {
   "cell_type": "code",
   "execution_count": 5,
   "metadata": {},
   "outputs": [],
   "source": [
    "# alpha = shape parameter, non-dimensional\n",
    "# beta = aft nosecone diameter, mm\n",
    "# gamma = nosecone length, mm\n",
    "# k = offset distance (wall thickness), mm\n",
    "\n",
    "xsubs = [(alpha, 1), (beta, 40), (gamma, 20), (k, 1.5)]  # Define replacement values\n",
    "x = x.subs(xsubs)  # Do the replacements in x\n",
    "\n",
    "ysubs = [(alpha, 1), (beta, 40), (gamma, 20), (k, 1.5)]\n",
    "y = y.subs(ysubs)\n",
    "\n",
    "fsubs = [(alpha, 1), (beta, 40), (gamma, 20), (k, 1.5)]\n",
    "f = f.subs(fsubs)\n",
    "\n",
    "gsubs = [(alpha, 1), (beta, 40), (gamma, 20), (k, 1.5)]\n",
    "g = g.subs(gsubs)"
   ]
  },
  {
   "cell_type": "code",
   "execution_count": 6,
   "metadata": {},
   "outputs": [],
   "source": [
    "# Sample points, offset 'inside' the outer curve\n",
    "ff = []\n",
    "gg = []\n",
    "xx = []\n",
    "yy = []\n",
    "for tt in range(0, 10):\n",
    "    ff.append(float(f.subs(t, tt)))  # Original x coordinate\n",
    "    gg.append(float(g.subs(t, tt)))  # Original y coordinate\n",
    "    xx.append(float(x.subs(t, tt)))  # Offset x coordinate\n",
    "    yy.append(float(y.subs(t, tt)))  # Offset y coordinate"
   ]
  },
  {
   "cell_type": "code",
   "execution_count": 7,
   "metadata": {},
   "outputs": [
    {
     "data": {
      "text/plain": [
       "<matplotlib.legend.Legend at 0x233d3973f88>"
      ]
     },
     "execution_count": 7,
     "metadata": {},
     "output_type": "execute_result"
    },
    {
     "data": {
      "image/png": "[encoded data removed]",
      "text/plain": [
       "<Figure size 432x288 with 1 Axes>"
      ]
     },
     "metadata": {
      "needs_background": "light"
     },
     "output_type": "display_data"
    }
   ],
   "source": [
    "fig = plt.figure()\n",
    "ax = fig.add_subplot(1, 1, 1)\n",
    "plt.plot(ff, gg, 'r-', label='Outer Surface')\n",
    "plt.plot(xx, yy, 'b--', label='Inner Surface')\n",
    "ax.set_title('Sample Plot for Nose Cone')\n",
    "ax.set_xlabel('Nosecone Length')\n",
    "ax.set_ylabel('Nosecone Radius')\n",
    "ax.legend(loc='best')"
   ]
  },
  {
   "cell_type": "raw",
   "metadata": {},
   "source": [
    "OpenSCAD Code Snippet\n",
    "\n",
    "// Render settings --------------------------\n",
    "$fn = 0;\n",
    "$fa = 0.01;\n",
    "$fs = 0.3;  //number of radial segments\n",
    "\n",
    "// Nosecone Parameters ----------------------\n",
    "alpha = 1;  //shape parameter\n",
    "beta = 40;  //body diameter, mm\n",
    "asp_rat = 5;    //aspect ratio\n",
    "gamma = beta * asp_rat; //body length, mm\n",
    "num_fcs = 100;  //number of vertical segments\n",
    "k = 1.5;    //wall thickness, mm\n",
    "body_rad = beta/2;  // body base radius, mm\n",
    "\n",
    "// Governing Functions ----------------------\n",
    "function x1(t) = t;\n",
    "function y1(t, alpha, beta, gamma) = (beta/2)*(-alpha*pow(t, 2)/pow(gamma, 2) + 2*t/gamma)/(2 - alpha);\n",
    "\n",
    "function x2(t, alpha, beta, gamma) = -(beta/2)*k*(-2*alpha*t/pow(gamma, 2) + 2/gamma)/((2 - alpha)*sqrt(pow(beta, 2)*pow(-2*alpha*t/pow(gamma, 2) + 2/gamma, 2)/pow(2 - alpha, 2) + 1)) + t;\n",
    "function y2(t, alpha, beta, gamma) = (beta/2)*(-alpha*pow(t, 2)/pow(gamma, 2) + 2*t/gamma)/(2 - alpha) - k/sqrt(pow(beta, 2)*pow(-2*alpha*t/pow(gamma, 2) + 2/gamma, 2)/pow(2 - alpha, 2) + 1);\n",
    "\n",
    "// if the inner and outer surfaces intersect it means I forgot to add the updated equations! \n",
    "// ------------------------------------------\n",
    "//outer surface points\n",
    "ply_pts_outer = concat([[0, 0]],[for (i=[0:num_fcs]) let (x=(i*gamma/num_fcs))[y1(gamma-x, alpha, beta, gamma), x]]);\n",
    "\n",
    "//inner surface points\n",
    "ply_pts_inner = concat([[0, 0]],[for (i=[0:num_fcs]) let (x=(i*gamma/num_fcs))[y2(gamma-x2(x, alpha, beta, gamma), alpha, beta, gamma), x]]);\n",
    "\n",
    "// Plot the surfaces --------------------------\n",
    "rotate_extrude() difference(){\n",
    "    polygon(points=ply_pts_outer);\n",
    "    polygon(points=ply_pts_inner);\n",
    "}\n",
    "\n",
    "// Plot the Shoulder --------------------------"
   ]
  },
  {
   "cell_type": "code",
   "execution_count": 8,
   "metadata": {},
   "outputs": [],
   "source": [
    "import numpy as np\n",
    "import matplotlib.pyplot as plt\n",
    "\n",
    "def x_outer(t, beta, gamma, alpha=1, k=1.5):\n",
    "    # alpha = shape parameter, non-dimensional\n",
    "    # beta = aft nosecone diameter, mm\n",
    "    # gamma = nosecone length, mm\n",
    "    # k = offset distance (wall thickness), mm\n",
    "    yout = y_outer(t, alpha, beta, gamma)\n",
    "    xin = x_inner(t, alpha, beta, gamma, k)\n",
    "    yin = y_inner(t, alpha, beta, gamma, k)\n",
    "    xout = t\n",
    "    return [xout, yout, xin, yin]\n",
    "\n",
    "def y_outer(t, alpha, beta, gamma):\n",
    "    return beta*(-alpha*t**2/gamma**2 + 2*t/gamma)/(2*(2 - alpha))\n",
    "\n",
    "def x_inner(t, alpha, beta, gamma, k):\n",
    "    return -beta*k*(-2*alpha*t/gamma**2 + 2/gamma)/(2*(2 - alpha)*np.sqrt(beta**2*(-2*alpha*t/gamma**2 + 2/gamma)**2/(4*(2 - alpha)**2) + 1)) + t\n",
    "\n",
    "def y_inner(t, alpha, beta, gamma, k):\n",
    "    return beta*(-alpha*t**2/gamma**2 + 2*t/gamma)/(2*(2 - alpha)) + k/np.sqrt(beta**2*(-2*alpha*t/gamma**2 + 2/gamma)**2/(4*(2 - alpha)**2) + 1)\n",
    "\n",
    "def example_plot(alpha=1, beta=40, gamma=20, k=1.5):\n",
    "    beta = 40\n",
    "    gamma = 20\n",
    "    k = 1.5\n",
    "    alpha = 1\n",
    "    xo = []\n",
    "    yo = []\n",
    "    xi = []\n",
    "    yi = []\n",
    "\n",
    "    for x in range(0, gamma):\n",
    "        curve_points = x_outer(t=x, beta=beta, gamma=gamma, alpha=alpha, k=k)\n",
    "        xo.append(curve_points[0])\n",
    "        yo.append(curve_points[1])\n",
    "        xi.append(curve_points[2])\n",
    "        yi.append(curve_points[3])\n",
    "    fig = plt.figure()\n",
    "    fig.add_subplot(1, 1, 1)\n",
    "    plt.plot(xo, yo, 'r-', label='Outer Surface')\n",
    "    plt.plot(xi, yi, 'b--', label='Inner Surface')"
   ]
  },
  {
   "cell_type": "code",
   "execution_count": null,
   "metadata": {},
   "outputs": [],
   "source": []
  }
 ],
 "metadata": {
  "kernelspec": {
   "display_name": "Python 3",
   "language": "python",
   "name": "python3"
  },
  "language_info": {
   "codemirror_mode": {
    "name": "ipython",
    "version": 3
   },
   "file_extension": ".py",
   "mimetype": "text/x-python",
   "name": "python",
   "nbconvert_exporter": "python",
   "pygments_lexer": "ipython3",
   "version": "3.7.6"
  },
  "toc": {
   "base_numbering": 1,
   "nav_menu": {},
   "number_sections": true,
   "sideBar": true,
   "skip_h1_title": false,
   "title_cell": "Table of Contents",
   "title_sidebar": "Contents",
   "toc_cell": false,
   "toc_position": {},
   "toc_section_display": true,
   "toc_window_display": false
  }
 },
 "nbformat": 4,
 "nbformat_minor": 4
}
